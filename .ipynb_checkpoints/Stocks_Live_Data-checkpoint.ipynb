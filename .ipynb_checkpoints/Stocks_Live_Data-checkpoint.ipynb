{
 "cells": [
  {
   "cell_type": "code",
   "execution_count": 1,
   "id": "d0edc8ab",
   "metadata": {},
   "outputs": [],
   "source": [
    "# Raw Package\n",
    "import numpy as np\n",
    "import pandas as pd\n",
    "\n",
    "#Data Source\n",
    "import yfinance as yf\n",
    "\n",
    "#Data viz\n",
    "import plotly.graph_objs as go"
   ]
  },
  {
   "cell_type": "code",
   "execution_count": 2,
   "id": "2876f993",
   "metadata": {},
   "outputs": [],
   "source": [
    "# df = pd.read_json(\"nasdaq.json\")"
   ]
  },
  {
   "cell_type": "code",
   "execution_count": 3,
   "id": "f454d3af",
   "metadata": {},
   "outputs": [],
   "source": [
    "df = pd.read_csv(\"nasdaq.csv\")"
   ]
  },
  {
   "cell_type": "code",
   "execution_count": 1,
   "id": "37ed0255",
   "metadata": {},
   "outputs": [],
   "source": [
    "df[\"Symbol\"] = df[\"Symbol\"].str.replace('^', '-P')\n",
    "df[\"Symbol\"] = df[\"Symbol\"].str.replace('.', '-')"
   ]
  },
  {
   "cell_type": "code",
   "execution_count": 5,
   "id": "3dbf5e2c",
   "metadata": {},
   "outputs": [
    {
     "data": {
      "text/plain": [
       "0          A\n",
       "1         AA\n",
       "2        AAC\n",
       "3       AACG\n",
       "4       AAIC\n",
       "5    AAIC-PB\n",
       "6    AAIC-PC\n",
       "7        AAL\n",
       "8       AAMC\n",
       "9       AAME\n",
       "Name: Symbol, dtype: object"
      ]
     },
     "execution_count": 5,
     "metadata": {},
     "output_type": "execute_result"
    }
   ],
   "source": [
    "df[\"Symbol\"][0:10]"
   ]
  },
  {
   "cell_type": "code",
   "execution_count": 6,
   "id": "60cf29b0",
   "metadata": {},
   "outputs": [],
   "source": [
    "stock_tickers = df[\"Symbol\"].str.cat(sep=' ')"
   ]
  },
  {
   "cell_type": "code",
   "execution_count": 2,
   "id": "a243eceb",
   "metadata": {},
   "outputs": [],
   "source": [
    "# stock_tickers"
   ]
  },
  {
   "cell_type": "code",
   "execution_count": 3,
   "id": "154c6f04",
   "metadata": {},
   "outputs": [],
   "source": [
    "data = yf.download(tickers=stock_tickers, period='5d')\n",
    "\n",
    "# # #Print data\n",
    "# #if hangs again try argument: threads= False\n",
    "# #or pip install yfinance==0.1.62\n",
    "# # pip install yfinance --upgrade --no-cache-dir\n",
    "# # data[0:]"
   ]
  },
  {
   "cell_type": "code",
   "execution_count": 267,
   "id": "954029b4",
   "metadata": {},
   "outputs": [
    {
     "data": {
      "text/html": [
       "<div>\n",
       "<style scoped>\n",
       "    .dataframe tbody tr th:only-of-type {\n",
       "        vertical-align: middle;\n",
       "    }\n",
       "\n",
       "    .dataframe tbody tr th {\n",
       "        vertical-align: top;\n",
       "    }\n",
       "\n",
       "    .dataframe thead th {\n",
       "        text-align: right;\n",
       "    }\n",
       "</style>\n",
       "<table border=\"1\" class=\"dataframe\">\n",
       "  <thead>\n",
       "    <tr style=\"text-align: right;\">\n",
       "      <th></th>\n",
       "      <th>Open</th>\n",
       "      <th>High</th>\n",
       "      <th>Low</th>\n",
       "      <th>Close</th>\n",
       "      <th>Adj Close</th>\n",
       "      <th>Volume</th>\n",
       "    </tr>\n",
       "    <tr>\n",
       "      <th>Date</th>\n",
       "      <th></th>\n",
       "      <th></th>\n",
       "      <th></th>\n",
       "      <th></th>\n",
       "      <th></th>\n",
       "      <th></th>\n",
       "    </tr>\n",
       "  </thead>\n",
       "  <tbody>\n",
       "    <tr>\n",
       "      <th>2021-07-06</th>\n",
       "      <td>2.000</td>\n",
       "      <td>2.69</td>\n",
       "      <td>1.88</td>\n",
       "      <td>2.68</td>\n",
       "      <td>2.68</td>\n",
       "      <td>170868400</td>\n",
       "    </tr>\n",
       "    <tr>\n",
       "      <th>2021-07-07</th>\n",
       "      <td>2.510</td>\n",
       "      <td>3.34</td>\n",
       "      <td>2.26</td>\n",
       "      <td>3.29</td>\n",
       "      <td>3.29</td>\n",
       "      <td>337116100</td>\n",
       "    </tr>\n",
       "    <tr>\n",
       "      <th>2021-07-08</th>\n",
       "      <td>2.680</td>\n",
       "      <td>3.87</td>\n",
       "      <td>2.63</td>\n",
       "      <td>2.80</td>\n",
       "      <td>2.80</td>\n",
       "      <td>345082400</td>\n",
       "    </tr>\n",
       "    <tr>\n",
       "      <th>2021-07-09</th>\n",
       "      <td>3.095</td>\n",
       "      <td>3.35</td>\n",
       "      <td>2.62</td>\n",
       "      <td>2.91</td>\n",
       "      <td>2.91</td>\n",
       "      <td>177419500</td>\n",
       "    </tr>\n",
       "    <tr>\n",
       "      <th>2021-07-12</th>\n",
       "      <td>3.190</td>\n",
       "      <td>3.63</td>\n",
       "      <td>2.98</td>\n",
       "      <td>3.47</td>\n",
       "      <td>3.47</td>\n",
       "      <td>249544200</td>\n",
       "    </tr>\n",
       "    <tr>\n",
       "      <th>2021-07-13</th>\n",
       "      <td>3.570</td>\n",
       "      <td>5.45</td>\n",
       "      <td>3.50</td>\n",
       "      <td>4.34</td>\n",
       "      <td>4.34</td>\n",
       "      <td>512018700</td>\n",
       "    </tr>\n",
       "  </tbody>\n",
       "</table>\n",
       "</div>"
      ],
      "text/plain": [
       "             Open  High   Low  Close  Adj Close     Volume\n",
       "Date                                                      \n",
       "2021-07-06  2.000  2.69  1.88   2.68       2.68  170868400\n",
       "2021-07-07  2.510  3.34  2.26   3.29       3.29  337116100\n",
       "2021-07-08  2.680  3.87  2.63   2.80       2.80  345082400\n",
       "2021-07-09  3.095  3.35  2.62   2.91       2.91  177419500\n",
       "2021-07-12  3.190  3.63  2.98   3.47       3.47  249544200\n",
       "2021-07-13  3.570  5.45  3.50   4.34       4.34  512018700"
      ]
     },
     "execution_count": 267,
     "metadata": {},
     "output_type": "execute_result"
    }
   ],
   "source": [
    "# data1 = yf.download(tickers = \"SPY AAPL MSFT\", period= '5d')\n",
    "hist_data = data"
   ]
  },
  {
   "cell_type": "code",
   "execution_count": null,
   "id": "03b4b884",
   "metadata": {},
   "outputs": [],
   "source": [
    "curr_data = yf.download(tickers=stock_tickers, period='1d')"
   ]
  },
  {
   "cell_type": "code",
   "execution_count": 163,
   "id": "cf1d2fed",
   "metadata": {},
   "outputs": [],
   "source": [
    "# ticker = \"MSFT\"\n",
    "# avg_vol = data[\"Volume\"][0:4][ticker].mean()\n",
    "# curr_vol = data[\"Volume\"][4:][ticker].mean()\n",
    "# avg_close = data[\"Close\"][0:4][ticker].mean()\n",
    "# curr_close = data[\"Close\"][4:][ticker].values[0]\n",
    "# times = curr_vol/avg_vol"
   ]
  },
  {
   "cell_type": "code",
   "execution_count": 257,
   "id": "c08cfd16",
   "metadata": {},
   "outputs": [],
   "source": [
    "avg_vol = hist_data[\"Volume\"].mean()\n",
    "curr_vol = curr_data[\"Volume\"].mean()\n",
    "last_close = hist_data[\"Close\"].mean()\n",
    "curr_close = curr_data[\"Close\"].values[0]\n",
    "close_diff = curr_close - last_close\n",
    "times = curr_vol/avg_vol"
   ]
  },
  {
   "cell_type": "code",
   "execution_count": 258,
   "id": "a5aaf0e8",
   "metadata": {},
   "outputs": [],
   "source": [
    "d = {'times':times, 'curr_vol': curr_vol, 'avg_vol': avg_vol, 'last_close': last_close, 'curr_close':curr_close, 'close_diff': close_diff}"
   ]
  },
  {
   "cell_type": "code",
   "execution_count": 259,
   "id": "ee9ffdc2",
   "metadata": {},
   "outputs": [],
   "source": [
    "Stocks_df = pd.DataFrame(data=d)"
   ]
  },
  {
   "cell_type": "code",
   "execution_count": 274,
   "id": "573901ba",
   "metadata": {},
   "outputs": [
    {
     "data": {
      "text/html": [
       "<style  type=\"text/css\" >\n",
       "</style><table id=\"T_006c8_\" ><thead>    <tr>        <th class=\"blank level0\" ></th>        <th class=\"col_heading level0 col0\" >times</th>        <th class=\"col_heading level0 col1\" >curr_vol</th>        <th class=\"col_heading level0 col2\" >avg_vol</th>        <th class=\"col_heading level0 col3\" >last_close</th>        <th class=\"col_heading level0 col4\" >curr_close</th>        <th class=\"col_heading level0 col5\" >close_diff</th>    </tr></thead><tbody>\n",
       "                <tr>\n",
       "                        <th id=\"T_006c8_level0_row0\" class=\"row_heading level0 row0\" >AAPL</th>\n",
       "                        <td id=\"T_006c8_row0_col0\" class=\"data row0 col0\" >1.042</td>\n",
       "                        <td id=\"T_006c8_row0_col1\" class=\"data row0 col1\" >100,698,900.000</td>\n",
       "                        <td id=\"T_006c8_row0_col2\" class=\"data row0 col2\" >96,643,800.000</td>\n",
       "                        <td id=\"T_006c8_row0_col3\" class=\"data row0 col3\" >144.500</td>\n",
       "                        <td id=\"T_006c8_row0_col4\" class=\"data row0 col4\" >145.640</td>\n",
       "                        <td id=\"T_006c8_row0_col5\" class=\"data row0 col5\" >1.140</td>\n",
       "            </tr>\n",
       "            <tr>\n",
       "                        <th id=\"T_006c8_level0_row1\" class=\"row_heading level0 row1\" >MSFT</th>\n",
       "                        <td id=\"T_006c8_row1_col0\" class=\"data row1 col0\" >1.151</td>\n",
       "                        <td id=\"T_006c8_row1_col1\" class=\"data row1 col1\" >26,107,500.000</td>\n",
       "                        <td id=\"T_006c8_row1_col2\" class=\"data row1 col2\" >22,678,950.000</td>\n",
       "                        <td id=\"T_006c8_row1_col3\" class=\"data row1 col3\" >277.320</td>\n",
       "                        <td id=\"T_006c8_row1_col4\" class=\"data row1 col4\" >280.980</td>\n",
       "                        <td id=\"T_006c8_row1_col5\" class=\"data row1 col5\" >3.660</td>\n",
       "            </tr>\n",
       "            <tr>\n",
       "                        <th id=\"T_006c8_level0_row2\" class=\"row_heading level0 row2\" >SPY</th>\n",
       "                        <td id=\"T_006c8_row2_col0\" class=\"data row2 col0\" >0.728</td>\n",
       "                        <td id=\"T_006c8_row2_col1\" class=\"data row2 col1\" >52,792,700.000</td>\n",
       "                        <td id=\"T_006c8_row2_col2\" class=\"data row2 col2\" >72,556,150.000</td>\n",
       "                        <td id=\"T_006c8_row2_col3\" class=\"data row2 col3\" >437.080</td>\n",
       "                        <td id=\"T_006c8_row2_col4\" class=\"data row2 col4\" >435.590</td>\n",
       "                        <td id=\"T_006c8_row2_col5\" class=\"data row2 col5\" >-1.490</td>\n",
       "            </tr>\n",
       "    </tbody></table>"
      ],
      "text/plain": [
       "<pandas.io.formats.style.Styler at 0x7fd004791550>"
      ]
     },
     "execution_count": 274,
     "metadata": {},
     "output_type": "execute_result"
    }
   ],
   "source": [
    "Stocks_df.style.format('{0:,.3f}')"
   ]
  },
  {
   "cell_type": "code",
   "execution_count": null,
   "id": "01e11a84",
   "metadata": {},
   "outputs": [],
   "source": []
  },
  {
   "cell_type": "code",
   "execution_count": null,
   "id": "9c7a9672",
   "metadata": {},
   "outputs": [],
   "source": []
  }
 ],
 "metadata": {
  "kernelspec": {
   "display_name": "Python 3",
   "language": "python",
   "name": "python3"
  },
  "language_info": {
   "codemirror_mode": {
    "name": "ipython",
    "version": 3
   },
   "file_extension": ".py",
   "mimetype": "text/x-python",
   "name": "python",
   "nbconvert_exporter": "python",
   "pygments_lexer": "ipython3",
   "version": "3.8.8"
  }
 },
 "nbformat": 4,
 "nbformat_minor": 5
}
