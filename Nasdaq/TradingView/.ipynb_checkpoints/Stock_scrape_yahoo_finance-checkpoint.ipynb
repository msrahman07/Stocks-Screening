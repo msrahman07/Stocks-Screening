{
 "cells": [
  {
   "cell_type": "code",
   "execution_count": 1,
   "id": "d064edf6",
   "metadata": {},
   "outputs": [],
   "source": [
    "import pandas as pd\n",
    "import requests\n",
    "import json"
   ]
  },
  {
   "cell_type": "code",
   "execution_count": 4,
   "id": "a46a40c0",
   "metadata": {},
   "outputs": [],
   "source": [
    "# url = 'https://query2.finance.yahoo.com/v1/finance/screener?crumb=0iRuI8gn%2Fmv&lang=en-US&region=US&formatted=true&corsDomain=finance.yahoo.com'\n",
    "url = 'https://query2.finance.yahoo.com/v1/finance/screener?crumb=0iRuI8gn%2Fmv&lang=en-US&region=US&formatted=true'\n",
    "payload = {\"size\":25,\"offset\":0,\"sortField\":\"ticker\",\"sortType\":\"asc\",\"quoteType\":\"EQUITY\",\"topOperator\":\"AND\",\"query\":{\"operator\":\"AND\",\"operands\":[{\"operator\":\"or\",\"operands\":[{\"operator\":\"EQ\",\"operands\":[\"region\",\"us\"]}]},{\"operator\":\"gt\",\"operands\":[\"intradayprice\",1]}]},\"userId\":\"\",\"userIdType\":\"guid\"}\n",
    "data = requests.post(url, json = payload)"
   ]
  },
  {
   "cell_type": "code",
   "execution_count": 5,
   "id": "ba3305d3",
   "metadata": {},
   "outputs": [
    {
     "data": {
      "text/plain": [
       "<Response [403]>"
      ]
     },
     "execution_count": 5,
     "metadata": {},
     "output_type": "execute_result"
    }
   ],
   "source": [
    "data"
   ]
  },
  {
   "cell_type": "code",
   "execution_count": null,
   "id": "576e6361",
   "metadata": {},
   "outputs": [],
   "source": []
  }
 ],
 "metadata": {
  "kernelspec": {
   "display_name": "Python 3",
   "language": "python",
   "name": "python3"
  },
  "language_info": {
   "codemirror_mode": {
    "name": "ipython",
    "version": 3
   },
   "file_extension": ".py",
   "mimetype": "text/x-python",
   "name": "python",
   "nbconvert_exporter": "python",
   "pygments_lexer": "ipython3",
   "version": "3.8.8"
  }
 },
 "nbformat": 4,
 "nbformat_minor": 5
}
