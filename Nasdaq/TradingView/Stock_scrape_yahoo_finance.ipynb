{
 "cells": [
  {
   "cell_type": "code",
   "execution_count": 1,
   "id": "dcfde143",
   "metadata": {},
   "outputs": [],
   "source": [
    "import pandas as pd\n",
    "import requests\n",
    "import json"
   ]
  },
  {
   "cell_type": "code",
   "execution_count": 8,
   "id": "417fb7dc",
   "metadata": {},
   "outputs": [],
   "source": [
    "url = 'https://query2.finance.yahoo.com/v1/finance/screener?crumb=0iRuI8gn%2Fmv&lang=en-US&region=US&formatted=true&corsDomain=*'\n",
    "payload = {\"size\":25,\"offset\":0,\"sortField\":\"ticker\",\"sortType\":\"asc\",\"quoteType\":\"EQUITY\",\"topOperator\":\"AND\",\"query\":{\"operator\":\"AND\",\"operands\":[{\"operator\":\"or\",\"operands\":[{\"operator\":\"EQ\",\"operands\":[\"region\",\"us\"]}]},{\"operator\":\"gt\",\"operands\":[\"intradayprice\",1]}]},\"userId\":\"\",\"userIdType\":\"guid\"}\n",
    "data = requests.post(url, json = payload)"
   ]
  },
  {
   "cell_type": "code",
   "execution_count": 9,
   "id": "0b1e4ab4",
   "metadata": {},
   "outputs": [
    {
     "data": {
      "text/plain": [
       "<Response [403]>"
      ]
     },
     "execution_count": 9,
     "metadata": {},
     "output_type": "execute_result"
    }
   ],
   "source": [
    "data"
   ]
  },
  {
   "cell_type": "code",
   "execution_count": null,
   "id": "4d7fd559",
   "metadata": {},
   "outputs": [],
   "source": []
  }
 ],
 "metadata": {
  "kernelspec": {
   "display_name": "Python 3",
   "language": "python",
   "name": "python3"
  },
  "language_info": {
   "codemirror_mode": {
    "name": "ipython",
    "version": 3
   },
   "file_extension": ".py",
   "mimetype": "text/x-python",
   "name": "python",
   "nbconvert_exporter": "python",
   "pygments_lexer": "ipython3",
   "version": "3.8.8"
  }
 },
 "nbformat": 4,
 "nbformat_minor": 5
}
