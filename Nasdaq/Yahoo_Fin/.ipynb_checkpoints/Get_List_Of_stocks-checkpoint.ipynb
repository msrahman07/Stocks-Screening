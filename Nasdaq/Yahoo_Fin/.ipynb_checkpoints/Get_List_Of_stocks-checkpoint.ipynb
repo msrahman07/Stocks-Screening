{
 "cells": [
  {
   "cell_type": "code",
   "execution_count": 146,
   "id": "1fc4b30f",
   "metadata": {},
   "outputs": [],
   "source": [
    "import pandas as pd\n",
    "import requests\n",
    "import json\n",
    "import time"
   ]
  },
  {
   "cell_type": "markdown",
   "id": "be984025",
   "metadata": {},
   "source": [
    "## Get all tickers from nasdaq csv"
   ]
  },
  {
   "cell_type": "code",
   "execution_count": 147,
   "id": "8cea1712",
   "metadata": {},
   "outputs": [],
   "source": [
    "# Download the latest file from Nasdaq\n",
    "nasdaq = pd.read_csv(\"nasdaq_screener.csv\")\n",
    "symbol_list = nasdaq['Symbol'].values.tolist()\n",
    "symbol_name = nasdaq['Name'].values.tolist()\n",
    "price = nasdaq['Last Sale'].values.tolist()"
   ]
  },
  {
   "cell_type": "code",
   "execution_count": 148,
   "id": "b45afbde",
   "metadata": {},
   "outputs": [],
   "source": [
    "# get json of all symbols, with name and price as list\n",
    "symbol_dict_list = []\n",
    "\n",
    "for i in range(len(symbol_list)):\n",
    "    if('/' in str(symbol_list[i]) or \n",
    "      '^' in str(symbol_list[i])):\n",
    "        continue\n",
    "    symbol_dict_list.append({\n",
    "        'symbol': symbol_list[i],\n",
    "        'name': symbol_name[i]\n",
    "    })"
   ]
  },
  {
   "cell_type": "code",
   "execution_count": 116,
   "id": "50688fb3",
   "metadata": {},
   "outputs": [],
   "source": [
    "# write the list of dict to json file\n",
    "# with open(\"stocks.json\", \"w\") as final:\n",
    "#    json.dump(symbol_dict_list, final)\n",
    "\n",
    "# final.close()"
   ]
  },
  {
   "cell_type": "code",
   "execution_count": 169,
   "id": "3c7d5eb9",
   "metadata": {},
   "outputs": [
    {
     "data": {
      "text/plain": [
       "['Ambev', 'Inc']"
      ]
     },
     "execution_count": 169,
     "metadata": {},
     "output_type": "execute_result"
    }
   ],
   "source": [
    "text = \"Ambev Inc.\"\n",
    "text_arr = text.split(' ')\n",
    "if(text_arr[1][-1] == '.'):\n",
    "    text_arr[1] = text_arr[1][:-1]\n",
    "\n",
    "text_arr"
   ]
  },
  {
   "cell_type": "markdown",
   "id": "edec6531",
   "metadata": {},
   "source": [
    "# Get the stocks that are available on WealthSimple"
   ]
  },
  {
   "cell_type": "code",
   "execution_count": 273,
   "id": "60087db7",
   "metadata": {},
   "outputs": [
    {
     "data": {
      "text/plain": [
       "'agilent'"
      ]
     },
     "execution_count": 273,
     "metadata": {},
     "output_type": "execute_result"
    }
   ],
   "source": [
    "# change bearer after login\n",
    "bearer =  \"Bearer \" # Bearer token goes here\n",
    "auth = {\"authorization\": bearer}\n",
    "\n",
    "# add the ticker at the end of the url\n",
    "url = \"https://trade-service.wealthsimple.com/securities?allow_ineligible_security=true&query=\"\n",
    "\n",
    "# Function to check if it's available on WealthSimple\n",
    "# takes ticker symbol, name and response from WS api call\n",
    "def check_valid_stock(symbol, response):\n",
    "    if(response['total_count'] > 0):\n",
    "        for result in response['results']:\n",
    "            if(result['stock']['symbol'] == symbol \n",
    "               and result['ws_trade_eligible'] == True):\n",
    "#                and (result['stock']['name'].lower() in name.lower())\n",
    "#                and (result['stock']['primary_exchange'] == 'NASDAQ'\n",
    "#                     or result['stock']['primary_exchange'] == 'NYSE')):\n",
    "                return True\n",
    "    return False\n",
    "\n",
    "def search_name_term(name_str):\n",
    "    name_str_arr = name_str.split(' ')\n",
    "#     if(name_str_arr[1][-1] == '.'):\n",
    "#         name_str_arr[1] = name_str_arr[1][:-1]\n",
    "    \n",
    "    return (name_str_arr[0]).lower()\n",
    "\n",
    "\n",
    "search_name_term(symbol_dict_list[0]['name'])"
   ]
  },
  {
   "cell_type": "markdown",
   "id": "4d546a58",
   "metadata": {},
   "source": [
    "### Check stocks in 100 batch with 1s delay for each stock with 5min break"
   ]
  },
  {
   "cell_type": "code",
   "execution_count": 233,
   "id": "330866bf",
   "metadata": {},
   "outputs": [
    {
     "name": "stdout",
     "output_type": "stream",
     "text": [
      "137: ADTH\n"
     ]
    },
    {
     "data": {
      "text/plain": [
       "{'offset': 0,\n",
       " 'total_count': 2,\n",
       " 'results': [{'object': 'security',\n",
       "   'id': 'sec-s-5544dc6d325a4653846afca9d0f96075',\n",
       "   'currency': 'USD',\n",
       "   'security_type': 'equity',\n",
       "   'ws_trade_eligible': False,\n",
       "   'ws_trade_ineligibility_reason': 'cds_ineligible',\n",
       "   'is_volatile': False,\n",
       "   'cds_eligible': False,\n",
       "   'settleable': False,\n",
       "   'active_date': '2021-12-23',\n",
       "   'inactive_date': None,\n",
       "   'active': True,\n",
       "   'buyable': False,\n",
       "   'sellable': False,\n",
       "   'status': 'trading',\n",
       "   'stock': {'symbol': 'ADTH',\n",
       "    'name': 'AdTheorent Holding Company Inc',\n",
       "    'primary_exchange': 'NASDAQ',\n",
       "    'primary_mic': 'XNAS',\n",
       "    'ipo_state': None,\n",
       "    'description': None,\n",
       "    'us_ptp': False},\n",
       "   'groups': [],\n",
       "   'allowed_order_subtypes': ['market', 'limit', 'stop_limit'],\n",
       "   'option_details': {'expiry_date': None,\n",
       "    'multiplier': None,\n",
       "    'option_type': None,\n",
       "    'osi_symbol': None,\n",
       "    'strike_price': None,\n",
       "    'underlying_security_id': None,\n",
       "    'underlying_security': None},\n",
       "   'options_eligible': False,\n",
       "   'equity_trading_session_type': 'REGULAR'},\n",
       "  {'object': 'security',\n",
       "   'id': 'sec-s-01d235e3a16c4cc980e2fb3ae153c456',\n",
       "   'currency': 'USD',\n",
       "   'security_type': 'equity',\n",
       "   'ws_trade_eligible': False,\n",
       "   'ws_trade_ineligibility_reason': 'cds_ineligible',\n",
       "   'is_volatile': False,\n",
       "   'cds_eligible': False,\n",
       "   'settleable': False,\n",
       "   'active_date': '2021-04-19',\n",
       "   'inactive_date': '2021-12-23',\n",
       "   'active': False,\n",
       "   'buyable': False,\n",
       "   'sellable': False,\n",
       "   'status': 'delisted',\n",
       "   'stock': {'symbol': 'MACQ',\n",
       "    'name': 'AdTheorent Holding Company Inc (Class A)',\n",
       "    'primary_exchange': 'NASDAQ',\n",
       "    'primary_mic': 'XNAS',\n",
       "    'ipo_state': None,\n",
       "    'description': None,\n",
       "    'us_ptp': False},\n",
       "   'groups': [],\n",
       "   'allowed_order_subtypes': ['market', 'limit', 'stop_limit'],\n",
       "   'option_details': {'expiry_date': None,\n",
       "    'multiplier': None,\n",
       "    'option_type': None,\n",
       "    'osi_symbol': None,\n",
       "    'strike_price': None,\n",
       "    'underlying_security_id': None,\n",
       "    'underlying_security': None},\n",
       "   'options_eligible': False,\n",
       "   'equity_trading_session_type': 'REGULAR'}]}"
      ]
     },
     "execution_count": 233,
     "metadata": {},
     "output_type": "execute_result"
    }
   ],
   "source": [
    "# symbol = str(symbol_dict_list[0]['symbol'])\n",
    "# name = str(symbol_dict_list[0]['name'])\n",
    "# search_term = search_name_term(name)\n",
    "api_url = url + search_term\n",
    "response = requests.get(api_url, headers = auth).json()\n",
    "# if(check_valid_stock(symbol, response)):\n",
    "#     curated_symbols_list.append(symbol_dict_list[j])\n",
    "print(str(j)+\": \"+symbol)\n",
    "response"
   ]
  },
  {
   "cell_type": "code",
   "execution_count": 222,
   "id": "02749a53",
   "metadata": {},
   "outputs": [],
   "source": [
    "curated_symbols_list = []\n",
    "# symbol = str(symbol_dict_list[0]['symbol'])\n",
    "# name = str(symbol_dict_list[0]['name'])\n",
    "# search_term = search_name_term(name)\n",
    "# api_url = url + search_term\n",
    "# response = requests.get(api_url, headers = auth).json()\n",
    "# response"
   ]
  },
  {
   "cell_type": "code",
   "execution_count": 223,
   "id": "fe11a8cc",
   "metadata": {},
   "outputs": [
    {
     "data": {
      "text/plain": [
       "[]"
      ]
     },
     "execution_count": 223,
     "metadata": {},
     "output_type": "execute_result"
    }
   ],
   "source": [
    "# curated_symbols_list"
   ]
  },
  {
   "cell_type": "code",
   "execution_count": 248,
   "id": "1e8f1e36",
   "metadata": {},
   "outputs": [],
   "source": [
    "# # check algorithm works for first 100\n",
    "# for j in range(0, 100):\n",
    "#     # check for validity here\n",
    "#     symbol = str(symbol_dict_list[j]['symbol'])\n",
    "#     name = str(symbol_dict_list[j]['name'])\n",
    "#     search_term = search_name_term(name)\n",
    "#     api_url = url + search_term\n",
    "#     response = requests.get(api_url, headers = auth).json()\n",
    "\n",
    "#     if(check_valid_stock(symbol, response)):\n",
    "#         curated_symbols_list.append(symbol_dict_list[j])\n",
    "#         print(str(j)+\": \"+symbol)\n",
    "\n",
    "#     time.sleep(1)"
   ]
  },
  {
   "cell_type": "code",
   "execution_count": 279,
   "id": "483ac40f",
   "metadata": {},
   "outputs": [
    {
     "data": {
      "text/plain": [
       "{'symbol': 'A', 'name': 'Agilent Technologies Inc. Common Stock'}"
      ]
     },
     "execution_count": 279,
     "metadata": {},
     "output_type": "execute_result"
    }
   ],
   "source": [
    "len(curated_symbols_list)\n",
    "curated_symbols_list[0]"
   ]
  },
  {
   "cell_type": "code",
   "execution_count": 280,
   "id": "8223af2c",
   "metadata": {},
   "outputs": [],
   "source": [
    "with open(\"curated_stocks_all.json\", \"w\") as final:\n",
    "   json.dump(curated_symbols_list, final)\n",
    "\n",
    "final.close()"
   ]
  },
  {
   "cell_type": "code",
   "execution_count": 281,
   "id": "555355b2",
   "metadata": {},
   "outputs": [],
   "source": [
    "# # intervals of 100 stocks\n",
    "# # starting from 100\n",
    "# intervals = []\n",
    "\n",
    "# num = 6749\n",
    "\n",
    "# while(num < len(symbol_dict_list)):\n",
    "#     intervals.append(num)\n",
    "#     num += 100\n",
    "    \n",
    "# intervals.append(num)\n",
    "\n",
    "# # checking 100 stocks' availability at a time\n",
    "# for i in range(1, len(intervals)):\n",
    "#     for j in range(intervals[i-1], intervals[i]):\n",
    "#         # check for validity here\n",
    "#         symbol = str(symbol_dict_list[j]['symbol'])\n",
    "#         name = str(symbol_dict_list[j]['name'])\n",
    "#         search_term = search_name_term(name)\n",
    "#         api_url = url + search_term\n",
    "#         response = requests.get(api_url, headers = auth).json()\n",
    "\n",
    "#         if(check_valid_stock(symbol, response)):\n",
    "#             curated_symbols_list.append(symbol_dict_list[j])\n",
    "#             print(str(j)+\": \"+symbol)\n",
    "\n",
    "#         time.sleep(1)\n",
    "#         if(j >= len(symbol_dict_list)-1):\n",
    "#             break"
   ]
  },
  {
   "cell_type": "code",
   "execution_count": 87,
   "id": "dc0aa1e2",
   "metadata": {},
   "outputs": [
    {
     "data": {
      "text/plain": [
       "<Response [200]>"
      ]
     },
     "execution_count": 87,
     "metadata": {},
     "output_type": "execute_result"
    }
   ],
   "source": [
    "# url = \"https://trade-service.wealthsimple.com/securities\"\n",
    "x = requests.get(url, headers = auth)\n",
    "x"
   ]
  },
  {
   "cell_type": "code",
   "execution_count": null,
   "id": "7b173d3a",
   "metadata": {},
   "outputs": [],
   "source": []
  },
  {
   "cell_type": "code",
   "execution_count": 97,
   "id": "1b37a73c",
   "metadata": {},
   "outputs": [],
   "source": [
    "aip = ainc\n",
    "# aip\n",
    "# x= x.json()\n",
    "# x"
   ]
  },
  {
   "cell_type": "code",
   "execution_count": 107,
   "id": "92754f68",
   "metadata": {},
   "outputs": [],
   "source": [
    "len(aip['results'])\n",
    "response = aip\n",
    "listAip = []\n",
    "symbol = 'AIP'\n",
    "name = 'Arteris Inc.'\n",
    "\n"
   ]
  },
  {
   "cell_type": "code",
   "execution_count": 108,
   "id": "8bac36d9",
   "metadata": {},
   "outputs": [
    {
     "name": "stdout",
     "output_type": "stream",
     "text": [
      "False\n"
     ]
    }
   ],
   "source": [
    "print(check_valid_stock('AIP', 'Arteris Inc.', x))"
   ]
  },
  {
   "cell_type": "code",
   "execution_count": null,
   "id": "6d3da789",
   "metadata": {},
   "outputs": [],
   "source": []
  },
  {
   "cell_type": "code",
   "execution_count": 5,
   "id": "70d5301d",
   "metadata": {},
   "outputs": [],
   "source": [
    "\n",
    "# nasdaq = pd.read_csv(\"nasdaq_screener.csv\")"
   ]
  },
  {
   "cell_type": "code",
   "execution_count": 17,
   "id": "62ab68fd",
   "metadata": {},
   "outputs": [
    {
     "data": {
      "text/html": [
       "<div>\n",
       "<style scoped>\n",
       "    .dataframe tbody tr th:only-of-type {\n",
       "        vertical-align: middle;\n",
       "    }\n",
       "\n",
       "    .dataframe tbody tr th {\n",
       "        vertical-align: top;\n",
       "    }\n",
       "\n",
       "    .dataframe thead th {\n",
       "        text-align: right;\n",
       "    }\n",
       "</style>\n",
       "<table border=\"1\" class=\"dataframe\">\n",
       "  <thead>\n",
       "    <tr style=\"text-align: right;\">\n",
       "      <th></th>\n",
       "      <th>Symbol</th>\n",
       "      <th>Name</th>\n",
       "      <th>Last Sale</th>\n",
       "      <th>Net Change</th>\n",
       "      <th>% Change</th>\n",
       "      <th>Market Cap</th>\n",
       "      <th>Country</th>\n",
       "      <th>IPO Year</th>\n",
       "      <th>Volume</th>\n",
       "      <th>Sector</th>\n",
       "      <th>Industry</th>\n",
       "    </tr>\n",
       "  </thead>\n",
       "  <tbody>\n",
       "    <tr>\n",
       "      <th>0</th>\n",
       "      <td>A</td>\n",
       "      <td>Agilent Technologies Inc. Common Stock</td>\n",
       "      <td>$142.54</td>\n",
       "      <td>0.3600</td>\n",
       "      <td>0.253%</td>\n",
       "      <td>4.217190e+10</td>\n",
       "      <td>United States</td>\n",
       "      <td>1999.0</td>\n",
       "      <td>565488</td>\n",
       "      <td>Industrials</td>\n",
       "      <td>Electrical Products</td>\n",
       "    </tr>\n",
       "    <tr>\n",
       "      <th>1</th>\n",
       "      <td>AA</td>\n",
       "      <td>Alcoa Corporation Common Stock</td>\n",
       "      <td>$48.98</td>\n",
       "      <td>0.9400</td>\n",
       "      <td>1.957%</td>\n",
       "      <td>8.667946e+09</td>\n",
       "      <td>NaN</td>\n",
       "      <td>2016.0</td>\n",
       "      <td>1167966</td>\n",
       "      <td>Industrials</td>\n",
       "      <td>Metal Fabrications</td>\n",
       "    </tr>\n",
       "    <tr>\n",
       "      <th>2</th>\n",
       "      <td>AAC</td>\n",
       "      <td>Ares Acquisition Corporation Class A Ordinary ...</td>\n",
       "      <td>$10.225</td>\n",
       "      <td>-0.0050</td>\n",
       "      <td>-0.049%</td>\n",
       "      <td>1.278125e+09</td>\n",
       "      <td>NaN</td>\n",
       "      <td>2021.0</td>\n",
       "      <td>3122</td>\n",
       "      <td>Finance</td>\n",
       "      <td>Blank Checks</td>\n",
       "    </tr>\n",
       "    <tr>\n",
       "      <th>3</th>\n",
       "      <td>AACG</td>\n",
       "      <td>ATA Creativity Global American Depositary Shares</td>\n",
       "      <td>$1.84</td>\n",
       "      <td>-0.0500</td>\n",
       "      <td>-2.646%</td>\n",
       "      <td>5.773353e+07</td>\n",
       "      <td>China</td>\n",
       "      <td>2008.0</td>\n",
       "      <td>2076</td>\n",
       "      <td>Consumer Discretionary</td>\n",
       "      <td>Service to the Health Industry</td>\n",
       "    </tr>\n",
       "    <tr>\n",
       "      <th>4</th>\n",
       "      <td>AACI</td>\n",
       "      <td>Armada Acquisition Corp. I Common Stock</td>\n",
       "      <td>$10.03</td>\n",
       "      <td>0.0000</td>\n",
       "      <td>0.00%</td>\n",
       "      <td>2.077163e+08</td>\n",
       "      <td>United States</td>\n",
       "      <td>2021.0</td>\n",
       "      <td>33</td>\n",
       "      <td>Industrials</td>\n",
       "      <td>Consumer Electronics/Appliances</td>\n",
       "    </tr>\n",
       "    <tr>\n",
       "      <th>...</th>\n",
       "      <td>...</td>\n",
       "      <td>...</td>\n",
       "      <td>...</td>\n",
       "      <td>...</td>\n",
       "      <td>...</td>\n",
       "      <td>...</td>\n",
       "      <td>...</td>\n",
       "      <td>...</td>\n",
       "      <td>...</td>\n",
       "      <td>...</td>\n",
       "      <td>...</td>\n",
       "    </tr>\n",
       "    <tr>\n",
       "      <th>7883</th>\n",
       "      <td>ZVSA</td>\n",
       "      <td>ZyVersa Therapeutics Inc. Common Stock</td>\n",
       "      <td>$2.21</td>\n",
       "      <td>0.0100</td>\n",
       "      <td>0.455%</td>\n",
       "      <td>2.007105e+07</td>\n",
       "      <td>United States</td>\n",
       "      <td>2022.0</td>\n",
       "      <td>6957</td>\n",
       "      <td>Health Care</td>\n",
       "      <td>Biotechnology: Pharmaceutical Preparations</td>\n",
       "    </tr>\n",
       "    <tr>\n",
       "      <th>7884</th>\n",
       "      <td>ZWS</td>\n",
       "      <td>Zurn Elkay Water Solutions Corporation Common ...</td>\n",
       "      <td>$23.21</td>\n",
       "      <td>0.2000</td>\n",
       "      <td>0.869%</td>\n",
       "      <td>4.086588e+09</td>\n",
       "      <td>United States</td>\n",
       "      <td>2012.0</td>\n",
       "      <td>220750</td>\n",
       "      <td>Utilities</td>\n",
       "      <td>Environmental Services</td>\n",
       "    </tr>\n",
       "    <tr>\n",
       "      <th>7885</th>\n",
       "      <td>ZYME</td>\n",
       "      <td>Zymeworks Inc. Common Stock</td>\n",
       "      <td>$8.15</td>\n",
       "      <td>-0.2300</td>\n",
       "      <td>-2.745%</td>\n",
       "      <td>5.134775e+08</td>\n",
       "      <td>United States</td>\n",
       "      <td>NaN</td>\n",
       "      <td>131860</td>\n",
       "      <td>Health Care</td>\n",
       "      <td>Biotechnology: Biological Products (No Diagnos...</td>\n",
       "    </tr>\n",
       "    <tr>\n",
       "      <th>7886</th>\n",
       "      <td>ZYNE</td>\n",
       "      <td>Zynerba Pharmaceuticals Inc. Common Stock</td>\n",
       "      <td>$0.4933</td>\n",
       "      <td>-0.0257</td>\n",
       "      <td>-4.952%</td>\n",
       "      <td>2.321604e+07</td>\n",
       "      <td>United States</td>\n",
       "      <td>2015.0</td>\n",
       "      <td>21097</td>\n",
       "      <td>Health Care</td>\n",
       "      <td>Biotechnology: Pharmaceutical Preparations</td>\n",
       "    </tr>\n",
       "    <tr>\n",
       "      <th>7887</th>\n",
       "      <td>ZYXI</td>\n",
       "      <td>Zynex Inc. Common Stock</td>\n",
       "      <td>$12.88</td>\n",
       "      <td>0.0500</td>\n",
       "      <td>0.39%</td>\n",
       "      <td>4.958800e+08</td>\n",
       "      <td>United States</td>\n",
       "      <td>NaN</td>\n",
       "      <td>46395</td>\n",
       "      <td>Health Care</td>\n",
       "      <td>Other Pharmaceuticals</td>\n",
       "    </tr>\n",
       "  </tbody>\n",
       "</table>\n",
       "<p>7888 rows × 11 columns</p>\n",
       "</div>"
      ],
      "text/plain": [
       "     Symbol                                               Name Last Sale  \\\n",
       "0         A             Agilent Technologies Inc. Common Stock   $142.54   \n",
       "1        AA                    Alcoa Corporation Common Stock     $48.98   \n",
       "2       AAC  Ares Acquisition Corporation Class A Ordinary ...   $10.225   \n",
       "3      AACG   ATA Creativity Global American Depositary Shares     $1.84   \n",
       "4      AACI            Armada Acquisition Corp. I Common Stock    $10.03   \n",
       "...     ...                                                ...       ...   \n",
       "7883   ZVSA             ZyVersa Therapeutics Inc. Common Stock     $2.21   \n",
       "7884    ZWS  Zurn Elkay Water Solutions Corporation Common ...    $23.21   \n",
       "7885   ZYME                        Zymeworks Inc. Common Stock     $8.15   \n",
       "7886   ZYNE          Zynerba Pharmaceuticals Inc. Common Stock   $0.4933   \n",
       "7887   ZYXI                            Zynex Inc. Common Stock    $12.88   \n",
       "\n",
       "      Net Change % Change    Market Cap        Country  IPO Year   Volume  \\\n",
       "0         0.3600   0.253%  4.217190e+10  United States    1999.0   565488   \n",
       "1         0.9400   1.957%  8.667946e+09            NaN    2016.0  1167966   \n",
       "2        -0.0050  -0.049%  1.278125e+09            NaN    2021.0     3122   \n",
       "3        -0.0500  -2.646%  5.773353e+07          China    2008.0     2076   \n",
       "4         0.0000    0.00%  2.077163e+08  United States    2021.0       33   \n",
       "...          ...      ...           ...            ...       ...      ...   \n",
       "7883      0.0100   0.455%  2.007105e+07  United States    2022.0     6957   \n",
       "7884      0.2000   0.869%  4.086588e+09  United States    2012.0   220750   \n",
       "7885     -0.2300  -2.745%  5.134775e+08  United States       NaN   131860   \n",
       "7886     -0.0257  -4.952%  2.321604e+07  United States    2015.0    21097   \n",
       "7887      0.0500    0.39%  4.958800e+08  United States       NaN    46395   \n",
       "\n",
       "                      Sector  \\\n",
       "0                Industrials   \n",
       "1                Industrials   \n",
       "2                    Finance   \n",
       "3     Consumer Discretionary   \n",
       "4                Industrials   \n",
       "...                      ...   \n",
       "7883             Health Care   \n",
       "7884               Utilities   \n",
       "7885             Health Care   \n",
       "7886             Health Care   \n",
       "7887             Health Care   \n",
       "\n",
       "                                               Industry  \n",
       "0                                   Electrical Products  \n",
       "1                                    Metal Fabrications  \n",
       "2                                          Blank Checks  \n",
       "3                        Service to the Health Industry  \n",
       "4                       Consumer Electronics/Appliances  \n",
       "...                                                 ...  \n",
       "7883         Biotechnology: Pharmaceutical Preparations  \n",
       "7884                             Environmental Services  \n",
       "7885  Biotechnology: Biological Products (No Diagnos...  \n",
       "7886         Biotechnology: Pharmaceutical Preparations  \n",
       "7887                              Other Pharmaceuticals  \n",
       "\n",
       "[7888 rows x 11 columns]"
      ]
     },
     "execution_count": 17,
     "metadata": {},
     "output_type": "execute_result"
    }
   ],
   "source": [
    "# nasdaq"
   ]
  },
  {
   "cell_type": "code",
   "execution_count": 23,
   "id": "2b11463b",
   "metadata": {},
   "outputs": [],
   "source": []
  },
  {
   "cell_type": "code",
   "execution_count": 79,
   "id": "19dc7ffa",
   "metadata": {},
   "outputs": [],
   "source": []
  },
  {
   "cell_type": "code",
   "execution_count": 80,
   "id": "53673ada",
   "metadata": {},
   "outputs": [
    {
     "data": {
      "text/plain": [
       "7443"
      ]
     },
     "execution_count": 80,
     "metadata": {},
     "output_type": "execute_result"
    }
   ],
   "source": [
    "# len(symbol_list) == len(symbol_name)\n",
    "len(symbol_dict_list)"
   ]
  },
  {
   "cell_type": "code",
   "execution_count": 26,
   "id": "62e53a43",
   "metadata": {},
   "outputs": [],
   "source": [
    "# file = open('auto_symbols.txt', 'w')\n",
    "\n",
    "# for i in range(len(symbol_list)):\n",
    "#     file.write(str(symbol_list[i])+' - '+str(symbol_name[i]) + ': ' + str(price[i]) + '\\n')\n",
    "# file.close()"
   ]
  },
  {
   "cell_type": "code",
   "execution_count": 14,
   "id": "7c5e2029",
   "metadata": {},
   "outputs": [
    {
     "data": {
      "text/plain": [
       "str"
      ]
     },
     "execution_count": 14,
     "metadata": {},
     "output_type": "execute_result"
    }
   ],
   "source": [
    "# type(symbol_list[0])"
   ]
  },
  {
   "cell_type": "code",
   "execution_count": null,
   "id": "aa6fd610",
   "metadata": {},
   "outputs": [],
   "source": [
    "7888"
   ]
  }
 ],
 "metadata": {
  "kernelspec": {
   "display_name": "Python 3",
   "language": "python",
   "name": "python3"
  },
  "language_info": {
   "codemirror_mode": {
    "name": "ipython",
    "version": 3
   },
   "file_extension": ".py",
   "mimetype": "text/x-python",
   "name": "python",
   "nbconvert_exporter": "python",
   "pygments_lexer": "ipython3",
   "version": "3.8.8"
  }
 },
 "nbformat": 4,
 "nbformat_minor": 5
}
