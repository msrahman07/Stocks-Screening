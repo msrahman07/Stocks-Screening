{
 "cells": [
  {
   "cell_type": "code",
   "execution_count": 1,
   "id": "d82df0fc",
   "metadata": {},
   "outputs": [],
   "source": [
    "import pandas as pd\n",
    "import requests\n",
    "import json"
   ]
  },
  {
   "cell_type": "code",
   "execution_count": 3,
   "id": "8a293606",
   "metadata": {},
   "outputs": [],
   "source": [
    "url = 'https://scanner.tradingview.com/america/scan'\n",
    "payload = {\"filter\":[{\"left\":\"type\",\"operation\":\"in_range\",\"right\":[\"stock\",\"dr\",\"fund\"]},{\"left\":\"subtype\",\"operation\":\"in_range\",\"right\":[\"common\",\"foreign-issuer\",\"\",\"etf\",\"etf,odd\",\"etf,otc\",\"etf,cfd\"]},{\"left\":\"exchange\",\"operation\":\"in_range\",\"right\":[\"AMEX\",\"NASDAQ\",\"NYSE\"]},{\"left\":\"sector\",\"operation\":\"in_range\",\"right\":[\"Health Services\",\"Health Technology\",\"Technology Services\",\"Energy Minerals\"]},{\"left\":\"volume\",\"operation\":\"in_range\",\"right\":[500000,9007199254740991]},{\"left\":\"change\",\"operation\":\"greater\",\"right\":0},{\"left\":\"close\",\"operation\":\"less\",\"right\":1},{\"left\":\"is_primary\",\"operation\":\"equal\",\"right\":True},{\"left\":\"active_symbol\",\"operation\":\"equal\",\"right\":True}],\"options\":{\"lang\":\"en\"},\"markets\":[\"america\"],\"symbols\":{\"query\":{\"types\":[]},\"tickers\":[]},\"columns\":[\"logoid\",\"name\",\"close\",\"change\",\"change_abs\",\"Recommend.All\",\"volume\",\"Value.Traded\",\"market_cap_basic\",\"price_earnings_ttm\",\"earnings_per_share_basic_ttm\",\"number_of_employees\",\"sector\",\"description\",\"type\",\"subtype\",\"update_mode\",\"pricescale\",\"minmov\",\"fractional\",\"minmove2\",\"currency\",\"fundamental_currency_code\"],\"sort\":{\"sortBy\":\"name\",\"sortOrder\":\"asc\"},\"range\":[0,150]}\n",
    "data = requests.post(url, json = payload)"
   ]
  },
  {
   "cell_type": "code",
   "execution_count": 4,
   "id": "1a78bffa",
   "metadata": {},
   "outputs": [
    {
     "data": {
      "text/plain": [
       "23"
      ]
     },
     "execution_count": 4,
     "metadata": {},
     "output_type": "execute_result"
    }
   ],
   "source": [
    "stocks_data = data.json()['data']\n",
    "len(stocks_data)"
   ]
  },
  {
   "cell_type": "code",
   "execution_count": 7,
   "id": "de9c3595",
   "metadata": {},
   "outputs": [],
   "source": [
    "stats_from_tradingview = []\n",
    "\n",
    "for data in stocks_data:\n",
    "    stock = {}\n",
    "    stock['Symbol'] = data['d'][1]\n",
    "    stock['Name'] = data['d'][11]\n",
    "    stock['Price'] = data['d'][2]\n",
    "    \n",
    "    stats_from_tradingview.append(stock)"
   ]
  },
  {
   "cell_type": "code",
   "execution_count": 10,
   "id": "6f944d78",
   "metadata": {},
   "outputs": [
    {
     "data": {
      "text/plain": [
       "0.5792"
      ]
     },
     "execution_count": 10,
     "metadata": {},
     "output_type": "execute_result"
    }
   ],
   "source": [
    "stats_from_tradingview[0]['Price']"
   ]
  },
  {
   "cell_type": "code",
   "execution_count": 11,
   "id": "c662e2bf",
   "metadata": {},
   "outputs": [],
   "source": [
    "sum_price = 0\n",
    "average = 0\n",
    "\n",
    "for stat in stats_from_tradingview:\n",
    "    sum_price += stat['Price']"
   ]
  },
  {
   "cell_type": "code",
   "execution_count": 12,
   "id": "1b4e15b1",
   "metadata": {},
   "outputs": [],
   "source": [
    "average = sum_price/len(stats_from_tradingview)"
   ]
  },
  {
   "cell_type": "code",
   "execution_count": 13,
   "id": "38517645",
   "metadata": {},
   "outputs": [
    {
     "data": {
      "text/plain": [
       "0.45838695652173916"
      ]
     },
     "execution_count": 13,
     "metadata": {},
     "output_type": "execute_result"
    }
   ],
   "source": [
    "average"
   ]
  },
  {
   "cell_type": "code",
   "execution_count": 15,
   "id": "c7d2b16d",
   "metadata": {},
   "outputs": [
    {
     "data": {
      "text/plain": [
       "10542.9"
      ]
     },
     "execution_count": 15,
     "metadata": {},
     "output_type": "execute_result"
    }
   ],
   "source": [
    "0.45838695652173916*1000*len(stats_from_tradingview)"
   ]
  },
  {
   "cell_type": "code",
   "execution_count": null,
   "id": "a922f436",
   "metadata": {},
   "outputs": [],
   "source": []
  }
 ],
 "metadata": {
  "kernelspec": {
   "display_name": "Python 3",
   "language": "python",
   "name": "python3"
  },
  "language_info": {
   "codemirror_mode": {
    "name": "ipython",
    "version": 3
   },
   "file_extension": ".py",
   "mimetype": "text/x-python",
   "name": "python",
   "nbconvert_exporter": "python",
   "pygments_lexer": "ipython3",
   "version": "3.8.8"
  }
 },
 "nbformat": 4,
 "nbformat_minor": 5
}
