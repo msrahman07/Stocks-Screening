{
 "cells": [
  {
   "cell_type": "code",
   "execution_count": 1,
   "id": "9ee17701",
   "metadata": {},
   "outputs": [],
   "source": [
    "# Raw Package\n",
    "import time\n",
    "import numpy as np\n",
    "import pandas as pd\n",
    "\n",
    "#Data Source\n",
    "import yfinance as yf\n",
    "\n",
    "#Data viz\n",
    "import plotly.graph_objs as go\n",
    "\n",
    "stocks_tickers_df = pd.read_csv(\"nasdaq.csv\")\n",
    "\n",
    "stocks_tickers_df[\"Symbol\"] = stocks_tickers_df[\"Symbol\"].str.replace('^', '-P')\n",
    "stocks_tickers_df[\"Symbol\"] = stocks_tickers_df[\"Symbol\"].str.replace('.', '-')\n",
    "stocks_tickers_df[\"Symbol\"] = stocks_tickers_df[\"Symbol\"].str.replace('/', '-')\n",
    "\n",
    "array = stocks_tickers_df[\"Symbol\"]\n",
    "array_stocks = array.str.cat(sep=' ')\n",
    "arr = np.array_split(stocks_tickers_df[\"Symbol\"], 50)\n",
    "\n",
    "stringer = lambda s: s.str.cat(sep=' ')\n",
    "vfunc = np.vectorize(stringer)\n",
    "stock_tickers = vfunc(arr)\n",
    "\n",
    "#array[2948]\n",
    "db = np.empty(50, dtype=object)\n",
    "for i in range(0,50):\n",
    "    db[i] = yf.download(tickers=stock_tickers[i], period='5d')\n",
    "    \n",
    "    if(i==30):\n",
    "        time.sleep(500)\n",
    "\n",
    "        \n",
    "data = pd.concat(db)\n",
    "\n",
    "hist_data = data\n",
    "\n",
    "avg_vol = data[\"Volume\"][:4].mean()\n",
    "curr_vol = data[\"Volume\"][4:].mean()\n",
    "last_close = data[\"Close\"][3:4].mean()\n",
    "curr_close = data[\"Close\"][4:].values[0]\n",
    "close_diff = curr_close - last_close\n",
    "times = curr_vol/avg_vol\n",
    "\n",
    "d = {'times':times, 'curr_vol': curr_vol, 'avg_vol': avg_vol, 'last_close': last_close, 'curr_close':curr_close, 'close_diff': close_diff}\n",
    "\n",
    "Stocks_df = pd.DataFrame(data=d)\n",
    "\n",
    "M_Stocks = Stocks_df[curr_vol > 1000000]\n",
    "\n",
    "M_Stocks=M_Stocks.sort_values(by=['times'], ascending=False)\n",
    "\n",
    "M_Stocks.head(10)"
   ]
  },
  {
   "cell_type": "code",
   "execution_count": null,
   "id": "93376497",
   "metadata": {},
   "outputs": [],
   "source": []
  },
  {
   "cell_type": "code",
   "execution_count": null,
   "id": "f9283f43",
   "metadata": {},
   "outputs": [],
   "source": []
  },
  {
   "cell_type": "code",
   "execution_count": null,
   "id": "40976b22",
   "metadata": {},
   "outputs": [],
   "source": []
  },
  {
   "cell_type": "code",
   "execution_count": null,
   "id": "83b61b02",
   "metadata": {},
   "outputs": [],
   "source": []
  },
  {
   "cell_type": "code",
   "execution_count": null,
   "id": "5541abd0",
   "metadata": {},
   "outputs": [],
   "source": []
  },
  {
   "cell_type": "code",
   "execution_count": null,
   "id": "3acead8e",
   "metadata": {},
   "outputs": [],
   "source": []
  },
  {
   "cell_type": "code",
   "execution_count": null,
   "id": "400e4a78",
   "metadata": {},
   "outputs": [],
   "source": []
  },
  {
   "cell_type": "code",
   "execution_count": null,
   "id": "1258d94f",
   "metadata": {},
   "outputs": [],
   "source": []
  },
  {
   "cell_type": "code",
   "execution_count": null,
   "id": "83769ee1",
   "metadata": {},
   "outputs": [],
   "source": []
  }
 ],
 "metadata": {
  "kernelspec": {
   "display_name": "Python 3",
   "language": "python",
   "name": "python3"
  },
  "language_info": {
   "codemirror_mode": {
    "name": "ipython",
    "version": 3
   },
   "file_extension": ".py",
   "mimetype": "text/x-python",
   "name": "python",
   "nbconvert_exporter": "python",
   "pygments_lexer": "ipython3",
   "version": "3.8.8"
  }
 },
 "nbformat": 4,
 "nbformat_minor": 5
}
